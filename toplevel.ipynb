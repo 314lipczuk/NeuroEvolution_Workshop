{
 "cells": [
  {
   "cell_type": "code",
   "execution_count": 1,
   "metadata": {},
   "outputs": [],
   "source": [
    "from XOR import Population, Genome, Connection, Specie\n",
    "INPUT = [[0,0], [0,1], [1,0], [1,1]]\n",
    "OUTPUT = [0, 1, 1, 0]"
   ]
  },
  {
   "cell_type": "code",
   "execution_count": 2,
   "metadata": {},
   "outputs": [
    {
     "name": "stdout",
     "output_type": "stream",
     "text": [
      "Generation 0 Best fitness 0\n",
      "Generation 1 Best fitness 4.004781307683083\n",
      "Generation 2 Best fitness 4.004706630826363\n",
      "Generation 3 Best fitness 4.03189694607486\n",
      "Generation 4 Best fitness 4.02361640059838\n",
      "Generation 5 Best fitness 4.1089304777067\n",
      "Generation 6 Best fitness 4.200418804541645\n",
      "Generation 7 Best fitness 4.1419300875903255\n",
      "Generation 8 Best fitness 4.183651321216478\n",
      "Generation 9 Best fitness 4.506296857852815\n",
      "Generation 10 Best fitness 4.415020721599025\n",
      "Generation 11 Best fitness 4.190119926017414\n",
      "Generation 12 Best fitness 4.394909412012422\n",
      "Generation 13 Best fitness 4.379910396059113\n",
      "Generation 14 Best fitness 4.780749886944091\n",
      "Generation 15 Best fitness 4.720016893238702\n",
      "Generation 16 Best fitness 4.834772682000588\n",
      "Generation 17 Best fitness 4.5663968690895285\n",
      "Generation 18 Best fitness 4.811015093773031\n",
      "Generation 19 Best fitness 4.777715408779578\n",
      "Generation 20 Best fitness 4.973561642727777\n",
      "Generation 21 Best fitness 4.135044188538412\n",
      "Generation 22 Best fitness 5.336032912034713\n",
      "Generation 23 Best fitness 5.396040681986603\n",
      "Generation 24 Best fitness 5.22239657934321\n",
      "Generation 25 Best fitness 5.561412988327527\n",
      "Generation 26 Best fitness 5.802112300530888\n",
      "Generation 27 Best fitness 5.30405102028255\n",
      "Generation 28 Best fitness 5.94922493155952\n",
      "Generation 29 Best fitness 5.777542333086173\n",
      "Generation 30 Best fitness 5.955664879282868\n",
      "Generation 31 Best fitness 5.561865272177916\n",
      "Generation 32 Best fitness 6.09126262198246\n",
      "Generation 33 Best fitness 6.151009157619092\n",
      "Generation 34 Best fitness 6.182290009716196\n",
      "Generation 35 Best fitness 6.213149331369875\n",
      "Generation 36 Best fitness 6.182290009716196\n",
      "Generation 37 Best fitness 6.177101702015702\n",
      "Generation 38 Best fitness 6.217853047882952\n",
      "Generation 39 Best fitness 6.2352677873602405\n",
      "Generation 40 Best fitness 6.239645112626735\n",
      "Generation 41 Best fitness 6.239645112626735\n",
      "Generation 42 Best fitness 6.242199755643077\n",
      "Generation 43 Best fitness 6.1330129087337815\n",
      "Generation 44 Best fitness 6.193674820254048\n",
      "Generation 45 Best fitness 6.248406015153497\n",
      "Generation 46 Best fitness 6.249997455546794\n",
      "Generation 47 Best fitness 6.249999546112445\n",
      "Generation 48 Best fitness 6.249999859458196\n",
      "Generation 49 Best fitness 6.249999999976508\n",
      "Generation 50 Best fitness 6.249999931898453\n",
      "Generation 51 Best fitness 6.249999997998779\n",
      "Generation 52 Best fitness 6.249999859462785\n",
      "Generation 53 Best fitness 6.249999859464267\n",
      "Generation 54 Best fitness 5.089537726638218\n",
      "Generation 55 Best fitness 5.028360271992632\n",
      "Generation 56 Best fitness 4.036025316925615\n",
      "Generation 57 Best fitness 4.004470026770182\n",
      "Generation 58 Best fitness 4.026426645054762\n",
      "Generation 59 Best fitness 4.072378952153278\n",
      "Generation 60 Best fitness 4.137694611950343\n",
      "Generation 61 Best fitness 4.004781307683083\n",
      "Generation 62 Best fitness 4.004781307683083\n",
      "Generation 63 Best fitness 4.163224758522761\n",
      "Generation 64 Best fitness 5.857823712307218\n",
      "Generation 65 Best fitness 5.857823712307218\n",
      "Generation 66 Best fitness 5.857823712307218\n",
      "Generation 67 Best fitness 5.821674401132483\n",
      "Generation 68 Best fitness 6.107462236266036\n",
      "Generation 69 Best fitness 4.145099139335992\n",
      "Generation 70 Best fitness 4.0944925810127835\n",
      "Generation 71 Best fitness 5.601136875146823\n",
      "Generation 72 Best fitness 4.004781307683083\n",
      "Generation 73 Best fitness 4.177176430852322\n",
      "Generation 74 Best fitness 5.559128143926964\n",
      "Generation 75 Best fitness 5.144576424183687\n",
      "Generation 76 Best fitness 5.144576424183687\n",
      "Generation 77 Best fitness 5.905202060877405\n",
      "Generation 78 Best fitness 5.559128143926964\n",
      "Generation 79 Best fitness 5.871037425696565\n",
      "Generation 80 Best fitness 6.132965117734661\n",
      "Generation 81 Best fitness 5.431672223924794\n",
      "Generation 82 Best fitness 5.835407360490981\n",
      "Generation 83 Best fitness 5.835407360490981\n",
      "Generation 84 Best fitness 5.835407360490981\n",
      "Generation 85 Best fitness 6.094739430493395\n",
      "Generation 86 Best fitness 5.798434387424295\n",
      "Generation 87 Best fitness 5.9524207628696075\n",
      "Generation 88 Best fitness 5.9524207628696075\n",
      "Generation 89 Best fitness 5.9524207628696075\n",
      "Generation 90 Best fitness 4.873034634287656\n",
      "Generation 91 Best fitness 5.244060900542143\n",
      "Generation 92 Best fitness 5.244060900542143\n",
      "Generation 93 Best fitness 5.244060900542143\n",
      "Generation 94 Best fitness 5.244060900542143\n",
      "Generation 95 Best fitness 5.244060900542143\n",
      "Generation 96 Best fitness 5.244060900542143\n",
      "Generation 97 Best fitness 5.244060900542143\n",
      "Generation 98 Best fitness 5.9205992818041215\n",
      "Generation 99 Best fitness 6.049088940364537\n",
      "Did not find solution in 100 iterations\n",
      "Species:, 15\n"
     ]
    }
   ],
   "source": [
    "p = Population(50, INPUT, OUTPUT )\n",
    "p.run()"
   ]
  },
  {
   "cell_type": "code",
   "execution_count": 9,
   "metadata": {},
   "outputs": [
    {
     "data": {
      "text/plain": [
       "{(0, 2): 0,\n",
       " (1, 2): 1,\n",
       " (1, 3): 2,\n",
       " (3, 2): 3,\n",
       " (0, 3): 4,\n",
       " (0, 4): 5,\n",
       " (4, 2): 6,\n",
       " (1, 4): 7,\n",
       " (4, 3): 8,\n",
       " (3, 4): 9,\n",
       " (3, 5): 10,\n",
       " (5, 2): 11,\n",
       " (4, 5): 12,\n",
       " (5, 3): 13,\n",
       " (0, 6): 14,\n",
       " (6, 4): 15,\n",
       " (1, 5): 16,\n",
       " (3, 6): 17,\n",
       " (6, 5): 18,\n",
       " (5, 6): 19,\n",
       " (6, 2): 20,\n",
       " (0, 5): 21,\n",
       " (4, 6): 22,\n",
       " (6, 3): 23,\n",
       " (1, 6): 24,\n",
       " (5, 4): 25,\n",
       " (1, 7): 26,\n",
       " (7, 2): 27,\n",
       " (7, 3): 28,\n",
       " (3, 7): 29,\n",
       " (7, 5): 30,\n",
       " (0, 7): 31,\n",
       " (7, 4): 32,\n",
       " (0, 8): 33,\n",
       " (8, 7): 34,\n",
       " (7, 6): 35,\n",
       " (5, 8): 36,\n",
       " (8, 2): 37,\n",
       " (7, 8): 38,\n",
       " (4, 7): 39,\n",
       " (4, 8): 40,\n",
       " (1, 9): 41,\n",
       " (9, 5): 42,\n",
       " (6, 9): 43,\n",
       " (4, 10): 44,\n",
       " (10, 3): 45,\n",
       " (6, 10): 46,\n",
       " (10, 9): 47,\n",
       " (0, 9): 48,\n",
       " (5, 7): 49,\n",
       " (6, 7): 50,\n",
       " (8, 3): 51,\n",
       " (1, 8): 52,\n",
       " (8, 4): 53,\n",
       " (8, 6): 54,\n",
       " (6, 8): 55,\n",
       " (8, 5): 56,\n",
       " (3, 8): 57,\n",
       " (3, 9): 58,\n",
       " (9, 2): 59,\n",
       " (9, 7): 60,\n",
       " (4, 9): 61,\n",
       " (9, 3): 62,\n",
       " (9, 4): 63,\n",
       " (7, 9): 64}"
      ]
     },
     "execution_count": 9,
     "metadata": {},
     "output_type": "execute_result"
    }
   ],
   "source": [
    "Connection.innov_table"
   ]
  },
  {
   "cell_type": "code",
   "execution_count": 8,
   "metadata": {},
   "outputs": [
    {
     "data": {
      "text/plain": [
       "3"
      ]
     },
     "execution_count": 8,
     "metadata": {},
     "output_type": "execute_result"
    }
   ],
   "source": [
    "Specie.threshold"
   ]
  },
  {
   "cell_type": "code",
   "execution_count": 3,
   "metadata": {},
   "outputs": [
    {
     "name": "stdout",
     "output_type": "stream",
     "text": [
      "example.html\n",
      "example.html\n",
      "example.html\n",
      "example.html\n",
      "example.html\n"
     ]
    }
   ],
   "source": [
    "top5 = sorted(p.organisms, key=lambda x:x.fitness, reverse=True)[:5]\n",
    "for o in top5:\n",
    "    o.show()\n",
    "    print(o)\n",
    "    !open example.html"
   ]
  },
  {
   "cell_type": "code",
   "execution_count": 5,
   "metadata": {},
   "outputs": [
    {
     "name": "stdout",
     "output_type": "stream",
     "text": [
      "example.html\n"
     ]
    }
   ],
   "source": [
    "p.organisms[0].show()\n",
    "!open example.html"
   ]
  },
  {
   "cell_type": "code",
   "execution_count": 4,
   "metadata": {},
   "outputs": [
    {
     "data": {
      "text/plain": [
       "[[Conn $0, [0 -> 2] enabled, Conn $1, [1 -> 2] enabled],\n",
       " [Conn $0, [0 -> 2] enabled, Conn $1, [1 -> 2] enabled],\n",
       " [Conn $0, [0 -> 2] enabled, Conn $1, [1 -> 2] enabled],\n",
       " [Conn $0, [0 -> 2] enabled, Conn $1, [1 -> 2] enabled],\n",
       " [Conn $0, [0 -> 2] enabled, Conn $1, [1 -> 2] enabled],\n",
       " [Conn $0, [0 -> 2] enabled, Conn $1, [1 -> 2] enabled],\n",
       " [Conn $0, [0 -> 2] enabled, Conn $1, [1 -> 2] enabled],\n",
       " [Conn $0, [0 -> 2] enabled, Conn $1, [1 -> 2] enabled],\n",
       " [Conn $0, [0 -> 2] enabled, Conn $1, [1 -> 2] enabled],\n",
       " [Conn $0, [0 -> 2] enabled, Conn $1, [1 -> 2] enabled],\n",
       " [Conn $0, [0 -> 2] enabled, Conn $1, [1 -> 2] enabled],\n",
       " [Conn $0, [0 -> 2] enabled, Conn $1, [1 -> 2] enabled],\n",
       " [Conn $0, [0 -> 2] enabled, Conn $1, [1 -> 2] enabled],\n",
       " [Conn $0, [0 -> 2] enabled, Conn $1, [1 -> 2] enabled],\n",
       " [Conn $0, [0 -> 2] enabled, Conn $1, [1 -> 2] enabled],\n",
       " [Conn $0, [0 -> 2] enabled, Conn $1, [1 -> 2] enabled],\n",
       " [Conn $0, [0 -> 2] enabled, Conn $1, [1 -> 2] enabled],\n",
       " [Conn $0, [0 -> 2] enabled, Conn $1, [1 -> 2] enabled],\n",
       " [Conn $0, [0 -> 2] enabled, Conn $1, [1 -> 2] enabled],\n",
       " [Conn $0, [0 -> 2] enabled, Conn $1, [1 -> 2] enabled],\n",
       " [Conn $0, [0 -> 2] enabled, Conn $1, [1 -> 2] enabled],\n",
       " [Conn $0, [0 -> 2] enabled, Conn $1, [1 -> 2] enabled],\n",
       " [Conn $0, [0 -> 2] enabled, Conn $1, [1 -> 2] enabled],\n",
       " [Conn $0, [0 -> 2] enabled, Conn $1, [1 -> 2] enabled],\n",
       " [Conn $0, [0 -> 2] enabled, Conn $1, [1 -> 2] enabled],\n",
       " [Conn $0, [0 -> 2] enabled, Conn $1, [1 -> 2] enabled],\n",
       " [Conn $0, [0 -> 2] enabled, Conn $1, [1 -> 2] enabled],\n",
       " [Conn $0, [0 -> 2] enabled, Conn $1, [1 -> 2] enabled],\n",
       " [Conn $0, [0 -> 2] enabled, Conn $1, [1 -> 2] enabled],\n",
       " [Conn $0, [0 -> 2] enabled, Conn $1, [1 -> 2] enabled],\n",
       " [Conn $0, [0 -> 2] enabled, Conn $1, [1 -> 2] enabled],\n",
       " [Conn $0, [0 -> 2] enabled, Conn $1, [1 -> 2] enabled],\n",
       " [Conn $0, [0 -> 2] enabled, Conn $1, [1 -> 2] enabled],\n",
       " [Conn $0, [0 -> 2] disabled,\n",
       "  Conn $1, [1 -> 2] enabled,\n",
       "  Conn $2, [0 -> 3] enabled,\n",
       "  Conn $3, [3 -> 2] enabled],\n",
       " [Conn $0, [0 -> 2] enabled, Conn $1, [1 -> 2] enabled],\n",
       " [Conn $0, [0 -> 2] enabled, Conn $1, [1 -> 2] enabled],\n",
       " [Conn $0, [0 -> 2] enabled, Conn $1, [1 -> 2] enabled],\n",
       " [Conn $0, [0 -> 2] enabled,\n",
       "  Conn $1, [1 -> 2] disabled,\n",
       "  Conn $6, [1 -> 3] enabled,\n",
       "  Conn $3, [3 -> 2] enabled],\n",
       " [Conn $0, [0 -> 2] enabled, Conn $1, [1 -> 2] enabled],\n",
       " [Conn $0, [0 -> 2] enabled, Conn $1, [1 -> 2] enabled],\n",
       " [Conn $0, [0 -> 2] enabled, Conn $1, [1 -> 2] enabled],\n",
       " [Conn $0, [0 -> 2] enabled, Conn $1, [1 -> 2] enabled],\n",
       " [Conn $0, [0 -> 2] enabled, Conn $1, [1 -> 2] enabled],\n",
       " [Conn $0, [0 -> 2] disabled,\n",
       "  Conn $1, [1 -> 2] enabled,\n",
       "  Conn $2, [0 -> 3] enabled,\n",
       "  Conn $3, [3 -> 2] enabled],\n",
       " [Conn $0, [0 -> 2] enabled, Conn $1, [1 -> 2] enabled],\n",
       " [Conn $0, [0 -> 2] enabled, Conn $1, [1 -> 2] enabled],\n",
       " [Conn $0, [0 -> 2] enabled, Conn $1, [1 -> 2] enabled],\n",
       " [Conn $0, [0 -> 2] enabled, Conn $1, [1 -> 2] enabled],\n",
       " [Conn $0, [0 -> 2] enabled, Conn $1, [1 -> 2] enabled],\n",
       " [Conn $0, [0 -> 2] enabled, Conn $1, [1 -> 2] enabled]]"
      ]
     },
     "execution_count": 4,
     "metadata": {},
     "output_type": "execute_result"
    }
   ],
   "source": [
    "\n",
    "[o.connections for o in p.organisms]"
   ]
  },
  {
   "cell_type": "code",
   "execution_count": 2,
   "metadata": {},
   "outputs": [
    {
     "name": "stdout",
     "output_type": "stream",
     "text": [
      "example.html\n"
     ]
    }
   ],
   "source": [
    "g = Genome(2,1)\n",
    "g.show()\n",
    "!open example.html"
   ]
  },
  {
   "cell_type": "code",
   "execution_count": 5,
   "metadata": {},
   "outputs": [
    {
     "ename": "NameError",
     "evalue": "name 'g' is not defined",
     "output_type": "error",
     "traceback": [
      "\u001b[0;31m---------------------------------------------------------------------------\u001b[0m",
      "\u001b[0;31mNameError\u001b[0m                                 Traceback (most recent call last)",
      "\u001b[1;32m/Users/polya/workshop/playgrounds/NEAT_playground/nano_neat/toplevel.ipynb Cell 7\u001b[0m line \u001b[0;36m1\n\u001b[0;32m----> <a href='vscode-notebook-cell:/Users/polya/workshop/playgrounds/NEAT_playground/nano_neat/toplevel.ipynb#X53sZmlsZQ%3D%3D?line=0'>1</a>\u001b[0m g\u001b[39m.\u001b[39mmutate()\n",
      "\u001b[0;31mNameError\u001b[0m: name 'g' is not defined"
     ]
    }
   ],
   "source": [
    "g.mutate()"
   ]
  },
  {
   "cell_type": "code",
   "execution_count": 6,
   "metadata": {},
   "outputs": [
    {
     "name": "stdout",
     "output_type": "stream",
     "text": [
      "example.html\n"
     ]
    }
   ],
   "source": [
    "g.show()\n",
    "!open example.html"
   ]
  },
  {
   "cell_type": "code",
   "execution_count": 5,
   "metadata": {},
   "outputs": [],
   "source": [
    "g.mutate_add_node()"
   ]
  },
  {
   "cell_type": "code",
   "execution_count": 7,
   "metadata": {},
   "outputs": [
    {
     "data": {
      "text/plain": [
       "[Conn $0, [0 -> 2] enabled,\n",
       " Conn $1, [1 -> 2] disabled,\n",
       " Conn $2, [1 -> 3] enabled,\n",
       " Conn $3, [1 -> 3] enabled]"
      ]
     },
     "execution_count": 7,
     "metadata": {},
     "output_type": "execute_result"
    }
   ],
   "source": [
    "g.connections"
   ]
  }
 ],
 "metadata": {
  "kernelspec": {
   "display_name": "Python 3 (ipykernel)",
   "language": "python",
   "name": "python3"
  },
  "language_info": {
   "codemirror_mode": {
    "name": "ipython",
    "version": 3
   },
   "file_extension": ".py",
   "mimetype": "text/x-python",
   "name": "python",
   "nbconvert_exporter": "python",
   "pygments_lexer": "ipython3",
   "version": "3.11.5"
  }
 },
 "nbformat": 4,
 "nbformat_minor": 5
}
