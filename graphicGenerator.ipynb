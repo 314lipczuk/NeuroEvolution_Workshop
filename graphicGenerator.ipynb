{
 "cells": [
  {
   "cell_type": "code",
   "execution_count": 2,
   "metadata": {},
   "outputs": [],
   "source": [
    "from model import *"
   ]
  },
  {
   "cell_type": "code",
   "execution_count": 3,
   "metadata": {},
   "outputs": [
    {
     "name": "stdout",
     "output_type": "stream",
     "text": [
      "Starting experiment VO9HKI\n"
     ]
    }
   ],
   "source": [
    "\n",
    "def activation_function(self, x):\n",
    "    x = torch.tensor(x)\n",
    "    if x >= 0:\n",
    "        return float(1./(1+torch.exp(-1e5*x)).to(torch.float))\n",
    "    else:\n",
    "        return float(torch.exp(1e5*x)/(1+torch.exp(1e5*x)).to(torch.float))\n",
    "\n",
    "def calculate_fitness(self, visible=False):\n",
    "    INPUT = [[0,0], [0,1], [1,0], [1,1]]\n",
    "    OUTPUT = [0, 1, 1, 0]\n",
    "    results = []\n",
    "    for i, o in zip(INPUT,OUTPUT):\n",
    "        self.load_inputs(i)\n",
    "        self.run_network()\n",
    "        output = self.get_output()[0]\n",
    "        results.append((o, output ))\n",
    "    error = sum( [abs( r - o ) for o, r in results] )\n",
    "    fitness = round((4 - error) ** 2, 2)\n",
    "    isDone = fitness > 15.5\n",
    "    return (isDone, fitness)\n",
    "\n",
    "def every_generation(p:Population):\n",
    "    if p.generation % 10 == 0 and p.generation > 0:\n",
    "            name = f\"gen_{p.generation}\"\n",
    "            f = open(f\"{p.path}/{name}.pkl\", \"wb\")\n",
    "            dill.dump(p.organisms[0], f )\n",
    "            f.close()\n",
    "            print(f\"Saved model {p.serial_number} {name}\")\n",
    "\n",
    "def after_finished(p:Population):\n",
    "    champ = p.champion\n",
    "    champ.save_brain(f\"{p.path}/champ.pkl\")\n",
    "    #champ.calculate_fitness(visible=True)\n",
    "    champStats = f\"{p.generation} {len(champ.nodes)} {len(champ.connections)} \"\n",
    "    with open(f\"{p.path}/champStats.txt\", \"w\") as f:\n",
    "        f.write(champStats)\n",
    "\n",
    "XorConfig = Config(\n",
    "    activation=activation_function,\n",
    "    fitness=calculate_fitness, \n",
    "    input_size=2, \n",
    "    EXPERIMENT_PATH= './tmp/XOR',\n",
    "    output_size=1 ,\n",
    "    meta = {},\n",
    "    every_generation=every_generation,\n",
    "    after_finished=after_finished,\n",
    "    max_iterations=300,\n",
    "    allowRecurrent=False,\n",
    "    DYNAMIC_THRESHOLD=True\n",
    "    )\n",
    "\n",
    "p = Population(config=XorConfig)"
   ]
  },
  {
   "cell_type": "code",
   "execution_count": 5,
   "metadata": {},
   "outputs": [],
   "source": [
    "g = p.organisms[0]"
   ]
  },
  {
   "cell_type": "code",
   "execution_count": 10,
   "metadata": {},
   "outputs": [
    {
     "name": "stdout",
     "output_type": "stream",
     "text": [
      "./tmp/XOR/example.html\n"
     ]
    }
   ],
   "source": [
    "g.save_brain(\"first\")"
   ]
  },
  {
   "cell_type": "code",
   "execution_count": 7,
   "metadata": {},
   "outputs": [],
   "source": [
    "g.mutate_add_node()"
   ]
  },
  {
   "cell_type": "code",
   "execution_count": 9,
   "metadata": {},
   "outputs": [],
   "source": [
    "g.mutate_add_connection()"
   ]
  }
 ],
 "metadata": {
  "kernelspec": {
   "display_name": "Python 3",
   "language": "python",
   "name": "python3"
  },
  "language_info": {
   "codemirror_mode": {
    "name": "ipython",
    "version": 3
   },
   "file_extension": ".py",
   "mimetype": "text/x-python",
   "name": "python",
   "nbconvert_exporter": "python",
   "pygments_lexer": "ipython3",
   "version": "3.11.5"
  }
 },
 "nbformat": 4,
 "nbformat_minor": 2
}
